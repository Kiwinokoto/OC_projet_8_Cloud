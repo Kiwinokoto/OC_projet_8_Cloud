{
 "cells": [
  {
   "cell_type": "code",
   "execution_count": null,
   "metadata": {},
   "outputs": [],
   "source": [
    "# Après création de l'instance VM et tunnel SSH :\n",
    "# gcloud compute ssh --zone \"europe-west9-c\" \"instance-20240512-104325\" --project \"utility-axis-423008-g9\"\n"
   ]
  },
  {
   "cell_type": "markdown",
   "metadata": {},
   "source": [
    "## bootstrap script\n",
    "\n",
    "#!/bin/bash\n",
    "sudo apt update\n",
    "sudo apt install python3-pip\n",
    "sudo python3 -m pip install -U setuptools\n",
    "sudo python3 -m pip install -U wheel\n",
    "sudo python3 -m pip install -U pillow\n",
    "sudo python3 -m pip install -U pandas\n",
    "sudo python3 -m pip install -U pyarrow\n",
    "sudo python3 -m pip install -U fsspec\n",
    "sudo apt-get install apt-transport-https ca-certificates gnupg curl\n",
    "curl https://packages.cloud.google.com/apt/doc/apt-key.gpg | sudo gpg --dearmor -o /usr/share/keyrings/cloud.google.gpg\n",
    "echo \"deb [signed-by=/usr/share/keyrings/cloud.google.gpg] https://packages.cloud.google.com/apt cloud-sdk main\" | sudo tee -a /etc/apt/sources.list.d/google-cloud-sdk.list\n",
    "sudo apt-get update && sudo apt-get install google-cloud-cli\n",
    "gcloud auth application-default login\n"
   ]
  },
  {
   "cell_type": "code",
   "execution_count": null,
   "metadata": {},
   "outputs": [],
   "source": [
    "# env ?\n",
    "\n",
    "import pandas as pd\n",
    "import numpy as np\n",
    "import io\n",
    "import os\n",
    "import tensorflow as tf\n",
    "from PIL import Image\n",
    "from tensorflow.keras.applications.mobilenet_v2 import MobileNetV2, preprocess_input\n",
    "from tensorflow.keras.preprocessing.image import img_to_array\n",
    "from tensorflow.keras import Model\n",
    "from pyspark.sql.functions import col, pandas_udf, PandasUDFType, element_at, split\n",
    "\n",
    "from google.cloud import storage\n"
   ]
  },
  {
   "cell_type": "code",
   "execution_count": null,
   "metadata": {},
   "outputs": [],
   "source": [
    "# test\n",
    "\n",
    "from google.cloud import storage\n",
    "\n",
    "\n",
    "def list_folders(bucket_name, prefix):\n",
    "    storage_client = storage.Client()\n",
    "    bucket = storage_client.get_bucket(bucket_name)\n",
    "    blobs = bucket.list_blobs(prefix=prefix)  # Filter blobs by prefix\n",
    "\n",
    "    folders = set()\n",
    "    for blob in blobs:\n",
    "        folder = blob.name.split('/')[1]  # Get the folder name inside Test1\n",
    "        if folder:\n",
    "            folders.add(folder)\n",
    "\n",
    "    return folders\n",
    "\n",
    "\n",
    "bucket_name = 'data_fruits'\n",
    "prefix = 'Test1/'\n",
    "folders = list_folders(bucket_name, prefix)\n",
    "\n",
    "print(f'Number of folders on Google Cloud Storage: {len(folders)}', '\\n') # 131\n",
    "\n",
    "print(\"15 first folders in bucket:\", '\\n')\n",
    "for i, folder in enumerate(list(folders)[:15]):\n",
    "    print(f'{i+1}   {folder}')\n"
   ]
  }
 ],
 "metadata": {
  "language_info": {
   "name": "python"
  }
 },
 "nbformat": 4,
 "nbformat_minor": 2
}
