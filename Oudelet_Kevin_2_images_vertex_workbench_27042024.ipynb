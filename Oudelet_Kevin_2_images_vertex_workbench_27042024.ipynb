{
 "cells": [
  {
   "cell_type": "code",
   "execution_count": null,
   "id": "78585baf",
   "metadata": {},
   "outputs": [],
   "source": [
    "# Script réalisant :\n",
    "\n",
    "# extraction de features d'images,\n",
    "# + PCA,\n",
    "# + enregistrement des résultats,\n",
    "\n",
    "# depuis un environnement sur le cloud, où tout est hébergé\n",
    "# (données, script, résultats).\n"
   ]
  },
  {
   "cell_type": "markdown",
   "id": "04a553c4",
   "metadata": {},
   "source": [
    "## 1 Mise en place de l'environnement\n"
   ]
  },
  {
   "cell_type": "markdown",
   "id": "2ed263d7",
   "metadata": {},
   "source": [
    "### 1.1 Authentification\n"
   ]
  },
  {
   "cell_type": "code",
   "execution_count": null,
   "id": "6592826b",
   "metadata": {},
   "outputs": [],
   "source": [
    "# Rappel\n",
    "# Vérifions que nous avons l'authentification nécessaire\n",
    "\n",
    "# Console (ubuntu debian):\n",
    "# (activate env)\n",
    "\n",
    "# install package(s):\n",
    "# sudo apt-get install apt-transport-https ca-certificates gnupg curl\n",
    "# curl https://packages.cloud.google.com/apt/doc/apt-key.gpg | sudo gpg --dearmor -o /usr/share/keyrings/cloud.google.gpg\n",
    "# echo \"deb [signed-by=/usr/share/keyrings/cloud.google.gpg] https://packages.cloud.google.com/apt cloud-sdk main\" | sudo tee -a /etc/apt/sources.list.d/google-cloud-sdk.list\n",
    "# sudo apt-get update && sudo apt-get install google-cloud-cli\n",
    "\n",
    "# Credentials:\n",
    "# gcloud init\n",
    "# gcloud auth application-default login\n",
    "\n",
    "# SSH (exemple, changé pour Belgique depuis : moins cher + user managed notebooks)\n",
    "# SSH: gcloud compute ssh --zone \"europe-west9-c\" \"instance-20240512-104325\" --project \"utility-axis-423008-g9\"\n"
   ]
  },
  {
   "cell_type": "markdown",
   "id": "97bf25a1",
   "metadata": {},
   "source": [
    "### 1.2 Importation ou installation des librairies\n"
   ]
  },
  {
   "cell_type": "code",
   "execution_count": 1,
   "id": "b5f61774-0cee-41f4-ac11-71ef7423a3c2",
   "metadata": {},
   "outputs": [
    {
     "name": "stdout",
     "output_type": "stream",
     "text": [
      "Requirement already satisfied: pip in /opt/conda/lib/python3.10/site-packages (24.0)\n",
      "Note: you may need to restart the kernel to use updated packages.\n",
      "Files removed: 114\n",
      "Note: you may need to restart the kernel to use updated packages.\n",
      "Collecting tensorflow\n",
      "  Downloading tensorflow-2.16.1-cp310-cp310-manylinux_2_17_x86_64.manylinux2014_x86_64.whl.metadata (4.3 kB)\n",
      "Requirement already satisfied: absl-py>=1.0.0 in /opt/conda/lib/python3.10/site-packages (from tensorflow) (2.1.0)\n",
      "Collecting astunparse>=1.6.0 (from tensorflow)\n",
      "  Downloading astunparse-1.6.3-py2.py3-none-any.whl.metadata (4.4 kB)\n",
      "Collecting flatbuffers>=23.5.26 (from tensorflow)\n",
      "  Downloading flatbuffers-24.3.25-py2.py3-none-any.whl.metadata (850 bytes)\n",
      "Collecting gast!=0.5.0,!=0.5.1,!=0.5.2,>=0.2.1 (from tensorflow)\n",
      "  Downloading gast-0.5.4-py3-none-any.whl.metadata (1.3 kB)\n",
      "Collecting google-pasta>=0.1.1 (from tensorflow)\n",
      "  Downloading google_pasta-0.2.0-py3-none-any.whl.metadata (814 bytes)\n",
      "Collecting h5py>=3.10.0 (from tensorflow)\n",
      "  Downloading h5py-3.11.0-cp310-cp310-manylinux_2_17_x86_64.manylinux2014_x86_64.whl.metadata (2.5 kB)\n",
      "Collecting libclang>=13.0.0 (from tensorflow)\n",
      "  Downloading libclang-18.1.1-py2.py3-none-manylinux2010_x86_64.whl.metadata (5.2 kB)\n",
      "Collecting ml-dtypes~=0.3.1 (from tensorflow)\n",
      "  Downloading ml_dtypes-0.3.2-cp310-cp310-manylinux_2_17_x86_64.manylinux2014_x86_64.whl.metadata (20 kB)\n",
      "Collecting opt-einsum>=2.3.2 (from tensorflow)\n",
      "  Downloading opt_einsum-3.3.0-py3-none-any.whl.metadata (6.5 kB)\n",
      "Requirement already satisfied: packaging in /opt/conda/lib/python3.10/site-packages (from tensorflow) (24.0)\n",
      "Requirement already satisfied: protobuf!=4.21.0,!=4.21.1,!=4.21.2,!=4.21.3,!=4.21.4,!=4.21.5,<5.0.0dev,>=3.20.3 in /opt/conda/lib/python3.10/site-packages (from tensorflow) (3.20.3)\n",
      "Requirement already satisfied: requests<3,>=2.21.0 in /opt/conda/lib/python3.10/site-packages (from tensorflow) (2.31.0)\n",
      "Requirement already satisfied: setuptools in /opt/conda/lib/python3.10/site-packages (from tensorflow) (69.5.1)\n",
      "Requirement already satisfied: six>=1.12.0 in /opt/conda/lib/python3.10/site-packages (from tensorflow) (1.16.0)\n",
      "Collecting termcolor>=1.1.0 (from tensorflow)\n",
      "  Downloading termcolor-2.4.0-py3-none-any.whl.metadata (6.1 kB)\n",
      "Requirement already satisfied: typing-extensions>=3.6.6 in /opt/conda/lib/python3.10/site-packages (from tensorflow) (4.11.0)\n",
      "Requirement already satisfied: wrapt>=1.11.0 in /opt/conda/lib/python3.10/site-packages (from tensorflow) (1.16.0)\n",
      "Requirement already satisfied: grpcio<2.0,>=1.24.3 in /opt/conda/lib/python3.10/site-packages (from tensorflow) (1.62.2)\n",
      "Collecting tensorboard<2.17,>=2.16 (from tensorflow)\n",
      "  Downloading tensorboard-2.16.2-py3-none-any.whl.metadata (1.6 kB)\n",
      "Collecting keras>=3.0.0 (from tensorflow)\n",
      "  Downloading keras-3.3.3-py3-none-any.whl.metadata (5.7 kB)\n",
      "Collecting tensorflow-io-gcs-filesystem>=0.23.1 (from tensorflow)\n",
      "  Downloading tensorflow_io_gcs_filesystem-0.37.0-cp310-cp310-manylinux_2_17_x86_64.manylinux2014_x86_64.whl.metadata (14 kB)\n",
      "Requirement already satisfied: numpy<2.0.0,>=1.23.5 in /opt/conda/lib/python3.10/site-packages (from tensorflow) (1.25.2)\n",
      "Requirement already satisfied: wheel<1.0,>=0.23.0 in /opt/conda/lib/python3.10/site-packages (from astunparse>=1.6.0->tensorflow) (0.43.0)\n",
      "Requirement already satisfied: rich in /opt/conda/lib/python3.10/site-packages (from keras>=3.0.0->tensorflow) (13.7.1)\n",
      "Collecting namex (from keras>=3.0.0->tensorflow)\n",
      "  Downloading namex-0.0.8-py3-none-any.whl.metadata (246 bytes)\n",
      "Collecting optree (from keras>=3.0.0->tensorflow)\n",
      "  Downloading optree-0.11.0-cp310-cp310-manylinux_2_17_x86_64.manylinux2014_x86_64.whl.metadata (45 kB)\n",
      "\u001b[2K     \u001b[90m━━━━━━━━━━━━━━━━━━━━━━━━━━━━━━━━━━━━━━━━\u001b[0m \u001b[32m45.4/45.4 kB\u001b[0m \u001b[31m4.8 MB/s\u001b[0m eta \u001b[36m0:00:00\u001b[0m\n",
      "\u001b[?25hRequirement already satisfied: charset-normalizer<4,>=2 in /opt/conda/lib/python3.10/site-packages (from requests<3,>=2.21.0->tensorflow) (3.3.2)\n",
      "Requirement already satisfied: idna<4,>=2.5 in /opt/conda/lib/python3.10/site-packages (from requests<3,>=2.21.0->tensorflow) (3.7)\n",
      "Requirement already satisfied: urllib3<3,>=1.21.1 in /opt/conda/lib/python3.10/site-packages (from requests<3,>=2.21.0->tensorflow) (1.26.18)\n",
      "Requirement already satisfied: certifi>=2017.4.17 in /opt/conda/lib/python3.10/site-packages (from requests<3,>=2.21.0->tensorflow) (2024.2.2)\n",
      "Collecting markdown>=2.6.8 (from tensorboard<2.17,>=2.16->tensorflow)\n",
      "  Downloading Markdown-3.6-py3-none-any.whl.metadata (7.0 kB)\n",
      "Collecting tensorboard-data-server<0.8.0,>=0.7.0 (from tensorboard<2.17,>=2.16->tensorflow)\n",
      "  Downloading tensorboard_data_server-0.7.2-py3-none-manylinux_2_31_x86_64.whl.metadata (1.1 kB)\n",
      "Collecting werkzeug>=1.0.1 (from tensorboard<2.17,>=2.16->tensorflow)\n",
      "  Downloading werkzeug-3.0.3-py3-none-any.whl.metadata (3.7 kB)\n",
      "Requirement already satisfied: MarkupSafe>=2.1.1 in /opt/conda/lib/python3.10/site-packages (from werkzeug>=1.0.1->tensorboard<2.17,>=2.16->tensorflow) (2.1.5)\n",
      "Requirement already satisfied: markdown-it-py>=2.2.0 in /opt/conda/lib/python3.10/site-packages (from rich->keras>=3.0.0->tensorflow) (3.0.0)\n",
      "Requirement already satisfied: pygments<3.0.0,>=2.13.0 in /opt/conda/lib/python3.10/site-packages (from rich->keras>=3.0.0->tensorflow) (2.17.2)\n",
      "Requirement already satisfied: mdurl~=0.1 in /opt/conda/lib/python3.10/site-packages (from markdown-it-py>=2.2.0->rich->keras>=3.0.0->tensorflow) (0.1.2)\n",
      "Downloading tensorflow-2.16.1-cp310-cp310-manylinux_2_17_x86_64.manylinux2014_x86_64.whl (589.8 MB)\n",
      "\u001b[2K   \u001b[90m━━━━━━━━━━━━━━━━━━━━━━━━━━━━━━━━━━━━━━━━\u001b[0m \u001b[32m589.8/589.8 MB\u001b[0m \u001b[31m1.2 MB/s\u001b[0m eta \u001b[36m0:00:00\u001b[0m:00:01\u001b[0m00:01\u001b[0m\n",
      "\u001b[?25hDownloading astunparse-1.6.3-py2.py3-none-any.whl (12 kB)\n",
      "Downloading flatbuffers-24.3.25-py2.py3-none-any.whl (26 kB)\n",
      "Downloading gast-0.5.4-py3-none-any.whl (19 kB)\n",
      "Downloading google_pasta-0.2.0-py3-none-any.whl (57 kB)\n",
      "\u001b[2K   \u001b[90m━━━━━━━━━━━━━━━━━━━━━━━━━━━━━━━━━━━━━━━━\u001b[0m \u001b[32m57.5/57.5 kB\u001b[0m \u001b[31m115.1 kB/s\u001b[0m eta \u001b[36m0:00:00\u001b[0ma \u001b[36m0:00:01\u001b[0m\n",
      "\u001b[?25hDownloading h5py-3.11.0-cp310-cp310-manylinux_2_17_x86_64.manylinux2014_x86_64.whl (5.3 MB)\n",
      "\u001b[2K   \u001b[90m━━━━━━━━━━━━━━━━━━━━━━━━━━━━━━━━━━━━━━━━\u001b[0m \u001b[32m5.3/5.3 MB\u001b[0m \u001b[31m5.4 MB/s\u001b[0m eta \u001b[36m0:00:00\u001b[0m0:00:01\u001b[0m00:01\u001b[0m\n",
      "\u001b[?25hDownloading keras-3.3.3-py3-none-any.whl (1.1 MB)\n",
      "\u001b[2K   \u001b[90m━━━━━━━━━━━━━━━━━━━━━━━━━━━━━━━━━━━━━━━━\u001b[0m \u001b[32m1.1/1.1 MB\u001b[0m \u001b[31m1.8 MB/s\u001b[0m eta \u001b[36m0:00:00\u001b[0m0:00:01\u001b[0m\n",
      "\u001b[?25hDownloading libclang-18.1.1-py2.py3-none-manylinux2010_x86_64.whl (24.5 MB)\n",
      "\u001b[2K   \u001b[90m━━━━━━━━━━━━━━━━━━━━━━━━━━━━━━━━━━━━━━━━\u001b[0m \u001b[32m24.5/24.5 MB\u001b[0m \u001b[31m68.6 MB/s\u001b[0m eta \u001b[36m0:00:00\u001b[0m:00:01\u001b[0m00:01\u001b[0m\n",
      "\u001b[?25hDownloading ml_dtypes-0.3.2-cp310-cp310-manylinux_2_17_x86_64.manylinux2014_x86_64.whl (2.2 MB)\n",
      "\u001b[2K   \u001b[90m━━━━━━━━━━━━━━━━━━━━━━━━━━━━━━━━━━━━━━━━\u001b[0m \u001b[32m2.2/2.2 MB\u001b[0m \u001b[31m69.3 MB/s\u001b[0m eta \u001b[36m0:00:00\u001b[0m\n",
      "\u001b[?25hDownloading opt_einsum-3.3.0-py3-none-any.whl (65 kB)\n",
      "\u001b[2K   \u001b[90m━━━━━━━━━━━━━━━━━━━━━━━━━━━━━━━━━━━━━━━━\u001b[0m \u001b[32m65.5/65.5 kB\u001b[0m \u001b[31m7.1 MB/s\u001b[0m eta \u001b[36m0:00:00\u001b[0m\n",
      "\u001b[?25hDownloading tensorboard-2.16.2-py3-none-any.whl (5.5 MB)\n",
      "\u001b[2K   \u001b[90m━━━━━━━━━━━━━━━━━━━━━━━━━━━━━━━━━━━━━━━━\u001b[0m \u001b[32m5.5/5.5 MB\u001b[0m \u001b[31m86.2 MB/s\u001b[0m eta \u001b[36m0:00:00\u001b[0mta \u001b[36m0:00:01\u001b[0m\n",
      "\u001b[?25hDownloading tensorflow_io_gcs_filesystem-0.37.0-cp310-cp310-manylinux_2_17_x86_64.manylinux2014_x86_64.whl (5.1 MB)\n",
      "\u001b[2K   \u001b[90m━━━━━━━━━━━━━━━━━━━━━━━━━━━━━━━━━━━━━━━━\u001b[0m \u001b[32m5.1/5.1 MB\u001b[0m \u001b[31m91.1 MB/s\u001b[0m eta \u001b[36m0:00:00\u001b[0m:00:01\u001b[0m\n",
      "\u001b[?25hDownloading termcolor-2.4.0-py3-none-any.whl (7.7 kB)\n",
      "Downloading Markdown-3.6-py3-none-any.whl (105 kB)\n",
      "\u001b[2K   \u001b[90m━━━━━━━━━━━━━━━━━━━━━━━━━━━━━━━━━━━━━━━━\u001b[0m \u001b[32m105.4/105.4 kB\u001b[0m \u001b[31m11.7 MB/s\u001b[0m eta \u001b[36m0:00:00\u001b[0m\n",
      "\u001b[?25hDownloading tensorboard_data_server-0.7.2-py3-none-manylinux_2_31_x86_64.whl (6.6 MB)\n",
      "\u001b[2K   \u001b[90m━━━━━━━━━━━━━━━━━━━━━━━━━━━━━━━━━━━━━━━━\u001b[0m \u001b[32m6.6/6.6 MB\u001b[0m \u001b[31m92.0 MB/s\u001b[0m eta \u001b[36m0:00:00\u001b[0m:00:01\u001b[0m00:01\u001b[0m\n",
      "\u001b[?25hDownloading werkzeug-3.0.3-py3-none-any.whl (227 kB)\n",
      "\u001b[2K   \u001b[90m━━━━━━━━━━━━━━━━━━━━━━━━━━━━━━━━━━━━━━━━\u001b[0m \u001b[32m227.3/227.3 kB\u001b[0m \u001b[31m21.1 MB/s\u001b[0m eta \u001b[36m0:00:00\u001b[0m\n",
      "\u001b[?25hDownloading namex-0.0.8-py3-none-any.whl (5.8 kB)\n",
      "Downloading optree-0.11.0-cp310-cp310-manylinux_2_17_x86_64.manylinux2014_x86_64.whl (311 kB)\n",
      "\u001b[2K   \u001b[90m━━━━━━━━━━━━━━━━━━━━━━━━━━━━━━━━━━━━━━━━\u001b[0m \u001b[32m311.2/311.2 kB\u001b[0m \u001b[31m27.3 MB/s\u001b[0m eta \u001b[36m0:00:00\u001b[0m\n",
      "\u001b[?25hInstalling collected packages: namex, libclang, flatbuffers, werkzeug, termcolor, tensorflow-io-gcs-filesystem, tensorboard-data-server, optree, opt-einsum, ml-dtypes, markdown, h5py, google-pasta, gast, astunparse, tensorboard, keras, tensorflow\n",
      "Successfully installed astunparse-1.6.3 flatbuffers-24.3.25 gast-0.5.4 google-pasta-0.2.0 h5py-3.11.0 keras-3.3.3 libclang-18.1.1 markdown-3.6 ml-dtypes-0.3.2 namex-0.0.8 opt-einsum-3.3.0 optree-0.11.0 tensorboard-2.16.2 tensorboard-data-server-0.7.2 tensorflow-2.16.1 tensorflow-io-gcs-filesystem-0.37.0 termcolor-2.4.0 werkzeug-3.0.3\n",
      "Note: you may need to restart the kernel to use updated packages.\n",
      "Collecting tensorflow-gpu\n",
      "  Downloading tensorflow-gpu-2.12.0.tar.gz (2.6 kB)\n",
      "  Preparing metadata (setup.py) ... \u001b[?25lerror\n",
      "  \u001b[1;31merror\u001b[0m: \u001b[1msubprocess-exited-with-error\u001b[0m\n",
      "  \n",
      "  \u001b[31m×\u001b[0m \u001b[32mpython setup.py egg_info\u001b[0m did not run successfully.\n",
      "  \u001b[31m│\u001b[0m exit code: \u001b[1;36m1\u001b[0m\n",
      "  \u001b[31m╰─>\u001b[0m \u001b[31m[39 lines of output]\u001b[0m\n",
      "  \u001b[31m   \u001b[0m Traceback (most recent call last):\n",
      "  \u001b[31m   \u001b[0m   File \"/opt/conda/lib/python3.10/site-packages/setuptools/_vendor/packaging/requirements.py\", line 35, in __init__\n",
      "  \u001b[31m   \u001b[0m     parsed = _parse_requirement(requirement_string)\n",
      "  \u001b[31m   \u001b[0m   File \"/opt/conda/lib/python3.10/site-packages/setuptools/_vendor/packaging/_parser.py\", line 64, in parse_requirement\n",
      "  \u001b[31m   \u001b[0m     return _parse_requirement(Tokenizer(source, rules=DEFAULT_RULES))\n",
      "  \u001b[31m   \u001b[0m   File \"/opt/conda/lib/python3.10/site-packages/setuptools/_vendor/packaging/_parser.py\", line 82, in _parse_requirement\n",
      "  \u001b[31m   \u001b[0m     url, specifier, marker = _parse_requirement_details(tokenizer)\n",
      "  \u001b[31m   \u001b[0m   File \"/opt/conda/lib/python3.10/site-packages/setuptools/_vendor/packaging/_parser.py\", line 126, in _parse_requirement_details\n",
      "  \u001b[31m   \u001b[0m     marker = _parse_requirement_marker(\n",
      "  \u001b[31m   \u001b[0m   File \"/opt/conda/lib/python3.10/site-packages/setuptools/_vendor/packaging/_parser.py\", line 147, in _parse_requirement_marker\n",
      "  \u001b[31m   \u001b[0m     tokenizer.raise_syntax_error(\n",
      "  \u001b[31m   \u001b[0m   File \"/opt/conda/lib/python3.10/site-packages/setuptools/_vendor/packaging/_tokenizer.py\", line 165, in raise_syntax_error\n",
      "  \u001b[31m   \u001b[0m     raise ParserSyntaxError(\n",
      "  \u001b[31m   \u001b[0m setuptools.extern.packaging._tokenizer.ParserSyntaxError: Expected end or semicolon (after name and no valid version specifier)\n",
      "  \u001b[31m   \u001b[0m     python_version>\"3.7\"\n",
      "  \u001b[31m   \u001b[0m                   ^\n",
      "  \u001b[31m   \u001b[0m \n",
      "  \u001b[31m   \u001b[0m The above exception was the direct cause of the following exception:\n",
      "  \u001b[31m   \u001b[0m \n",
      "  \u001b[31m   \u001b[0m Traceback (most recent call last):\n",
      "  \u001b[31m   \u001b[0m   File \"<string>\", line 2, in <module>\n",
      "  \u001b[31m   \u001b[0m   File \"<pip-setuptools-caller>\", line 34, in <module>\n",
      "  \u001b[31m   \u001b[0m   File \"/tmp/pip-install-rnx27815/tensorflow-gpu_e4f790e2c6d84220bf801c83731be271/setup.py\", line 40, in <module>\n",
      "  \u001b[31m   \u001b[0m     setuptools.setup()\n",
      "  \u001b[31m   \u001b[0m   File \"/opt/conda/lib/python3.10/site-packages/setuptools/__init__.py\", line 103, in setup\n",
      "  \u001b[31m   \u001b[0m     _install_setup_requires(attrs)\n",
      "  \u001b[31m   \u001b[0m   File \"/opt/conda/lib/python3.10/site-packages/setuptools/__init__.py\", line 74, in _install_setup_requires\n",
      "  \u001b[31m   \u001b[0m     dist.parse_config_files(ignore_option_errors=True)\n",
      "  \u001b[31m   \u001b[0m   File \"/opt/conda/lib/python3.10/site-packages/setuptools/dist.py\", line 633, in parse_config_files\n",
      "  \u001b[31m   \u001b[0m     self._finalize_requires()\n",
      "  \u001b[31m   \u001b[0m   File \"/opt/conda/lib/python3.10/site-packages/setuptools/dist.py\", line 368, in _finalize_requires\n",
      "  \u001b[31m   \u001b[0m     self._normalize_requires()\n",
      "  \u001b[31m   \u001b[0m   File \"/opt/conda/lib/python3.10/site-packages/setuptools/dist.py\", line 383, in _normalize_requires\n",
      "  \u001b[31m   \u001b[0m     self.install_requires = list(map(str, _reqs.parse(install_requires)))\n",
      "  \u001b[31m   \u001b[0m   File \"/opt/conda/lib/python3.10/site-packages/setuptools/_vendor/packaging/requirements.py\", line 37, in __init__\n",
      "  \u001b[31m   \u001b[0m     raise InvalidRequirement(str(e)) from e\n",
      "  \u001b[31m   \u001b[0m setuptools.extern.packaging.requirements.InvalidRequirement: Expected end or semicolon (after name and no valid version specifier)\n",
      "  \u001b[31m   \u001b[0m     python_version>\"3.7\"\n",
      "  \u001b[31m   \u001b[0m                   ^\n",
      "  \u001b[31m   \u001b[0m \u001b[31m[end of output]\u001b[0m\n",
      "  \n",
      "  \u001b[1;35mnote\u001b[0m: This error originates from a subprocess, and is likely not a problem with pip.\n",
      "\u001b[1;31merror\u001b[0m: \u001b[1mmetadata-generation-failed\u001b[0m\n",
      "\n",
      "\u001b[31m×\u001b[0m Encountered error while generating package metadata.\n",
      "\u001b[31m╰─>\u001b[0m See above for output.\n",
      "\n",
      "\u001b[1;35mnote\u001b[0m: This is an issue with the package mentioned above, not pip.\n",
      "\u001b[1;36mhint\u001b[0m: See above for details.\n",
      "\u001b[?25hNote: you may need to restart the kernel to use updated packages.\n"
     ]
    },
    {
     "name": "stderr",
     "output_type": "stream",
     "text": [
      "2024-05-14 09:33:03.682317: I external/local_tsl/tsl/cuda/cudart_stub.cc:32] Could not find cuda drivers on your machine, GPU will not be used.\n",
      "2024-05-14 09:33:03.688398: I external/local_tsl/tsl/cuda/cudart_stub.cc:32] Could not find cuda drivers on your machine, GPU will not be used.\n",
      "2024-05-14 09:33:03.773033: I tensorflow/core/platform/cpu_feature_guard.cc:210] This TensorFlow binary is optimized to use available CPU instructions in performance-critical operations.\n",
      "To enable the following instructions: AVX2 FMA, in other operations, rebuild TensorFlow with the appropriate compiler flags.\n",
      "2024-05-14 09:33:06.072292: W tensorflow/compiler/tf2tensorrt/utils/py_utils.cc:38] TF-TRT Warning: Could not find TensorRT\n"
     ]
    },
    {
     "name": "stdout",
     "output_type": "stream",
     "text": [
      "\n",
      " Tensorflow version 2.16.1 \n",
      "\n",
      "\n",
      " Done\n"
     ]
    }
   ],
   "source": [
    "%pip install --upgrade pip\n",
    "%pip cache purge\n",
    "\n",
    "# General\n",
    "import pandas as pd\n",
    "import numpy as np\n",
    "import io\n",
    "import os\n",
    "from PIL import Image\n",
    "\n",
    "# Neural network (mobilenet)\n",
    "%pip install tensorflow\n",
    "%pip install tensorflow-gpu\n",
    "import tensorflow as tf\n",
    "print('\\n', 'Tensorflow version ' + tf.__version__, '\\n')\n",
    "from tensorflow.keras.applications.mobilenet_v2 import MobileNetV2, preprocess_input\n",
    "from tensorflow.keras.preprocessing.image import img_to_array\n",
    "from tensorflow.keras import Model\n",
    "\n",
    "# map reduce\n",
    "# %pip install pyspark\n",
    "from pyspark.sql import SparkSession\n",
    "from pyspark.sql.functions import col, pandas_udf, PandasUDFType, element_at, split, udf\n",
    "\n",
    "# Acces bucket\n",
    "from google.cloud import storage\n",
    "\n",
    "# PCA\n",
    "from pyspark.ml.feature import PCA\n",
    "from pyspark.ml.linalg import Vectors, VectorUDT\n",
    "\n",
    "# Visu\n",
    "import pprint\n",
    "import matplotlib.pyplot as plt\n",
    "\n",
    "print('\\n', 'Done')\n"
   ]
  },
  {
   "cell_type": "markdown",
   "id": "8d52b79f",
   "metadata": {},
   "source": [
    "### 1.3 Accès au bucket\n"
   ]
  },
  {
   "cell_type": "code",
   "execution_count": 2,
   "id": "dfe17de1-e48d-4713-a834-f6fba5ce843f",
   "metadata": {},
   "outputs": [
    {
     "name": "stdout",
     "output_type": "stream",
     "text": [
      "Number of folders on Google Cloud Storage: 131 \n",
      "\n",
      "15 first folders in bucket: \n",
      "\n",
      "1   Quince\n",
      "2   Mulberry\n",
      "3   Kaki\n",
      "4   Tomato Maroon\n",
      "5   Plum\n",
      "6   Tomato not Ripened\n",
      "7   Cherry Wax Red\n",
      "8   Huckleberry\n",
      "9   Apple Red 1\n",
      "10   Avocado ripe\n"
     ]
    }
   ],
   "source": [
    "# test\n",
    "\n",
    "def list_folders(bucket_name, prefix):\n",
    "    storage_client = storage.Client()\n",
    "    bucket = storage_client.get_bucket(bucket_name)\n",
    "    blobs = bucket.list_blobs(prefix=prefix)  # Filter blobs by prefix\n",
    "\n",
    "    folders = set()\n",
    "    for blob in blobs:\n",
    "        folder = blob.name.split('/')[1]  # Get the folder name inside Test1\n",
    "        if folder:\n",
    "            folders.add(folder)\n",
    "\n",
    "    return folders\n",
    "\n",
    "\n",
    "bucket_name = 'data-fruits-p8'\n",
    "prefix = 'Test1/'\n",
    "folders = list_folders(bucket_name, prefix)\n",
    "\n",
    "print(f'Number of folders on Google Cloud Storage: {len(folders)}', '\\n') # 131\n",
    "\n",
    "print(\"15 first folders in bucket:\", '\\n')\n",
    "for i, folder in enumerate(list(folders)[:10]):\n",
    "    print(f'{i+1}   {folder}')\n"
   ]
  },
  {
   "cell_type": "markdown",
   "id": "ec8d84b8",
   "metadata": {},
   "source": [
    "### 1.4 Spark session\n"
   ]
  },
  {
   "cell_type": "code",
   "execution_count": 3,
   "id": "9cda82f6-f919-42f5-ba07-28f002a90cd4",
   "metadata": {},
   "outputs": [
    {
     "name": "stdout",
     "output_type": "stream",
     "text": [
      "24/05/14 09:33:10 WARN SparkSession: Using an existing Spark session; only runtime SQL configurations will take effect.\n"
     ]
    },
    {
     "data": {
      "text/html": [
       "\n",
       "            <div>\n",
       "                <p><b>SparkSession - hive</b></p>\n",
       "                \n",
       "        <div>\n",
       "            <p><b>SparkContext</b></p>\n",
       "\n",
       "            <p><a href=\"http://f9da2351ecdd:4040\">Spark UI</a></p>\n",
       "\n",
       "            <dl>\n",
       "              <dt>Version</dt>\n",
       "                <dd><code>v3.3.2</code></dd>\n",
       "              <dt>Master</dt>\n",
       "                <dd><code>local[*]</code></dd>\n",
       "              <dt>AppName</dt>\n",
       "                <dd><code>PySparkShell</code></dd>\n",
       "            </dl>\n",
       "        </div>\n",
       "        \n",
       "            </div>\n",
       "        "
      ],
      "text/plain": [
       "<pyspark.sql.session.SparkSession at 0x7fc95c1b6bc0>"
      ]
     },
     "execution_count": 3,
     "metadata": {},
     "output_type": "execute_result"
    }
   ],
   "source": [
    "spark = (SparkSession\n",
    "             .builder\n",
    "             .appName('P8')\n",
    "             .master('local')\n",
    "             .config(\"spark.sql.parquet.writeLegacyFormat\", 'true')\n",
    "             .getOrCreate()\n",
    ")\n",
    "\n",
    "spark.conf.set(\"spark.sql.execution.arrow.maxRecordsPerBatch\", \"500\")\n",
    "\n",
    "sc = spark.sparkContext\n",
    "\n",
    "spark\n"
   ]
  },
  {
   "cell_type": "markdown",
   "id": "863cf60a",
   "metadata": {},
   "source": [
    "### 1.5 Chargement des images\n"
   ]
  },
  {
   "cell_type": "code",
   "execution_count": 4,
   "id": "0ebdae29-9f6d-45ae-957d-d750fcbbd571",
   "metadata": {},
   "outputs": [
    {
     "name": "stderr",
     "output_type": "stream",
     "text": [
      "                                                                                \r"
     ]
    },
    {
     "name": "stdout",
     "output_type": "stream",
     "text": [
      "<class 'pyspark.sql.dataframe.DataFrame'>\n"
     ]
    },
    {
     "name": "stderr",
     "output_type": "stream",
     "text": [
      "                                                                                \r"
     ]
    },
    {
     "name": "stdout",
     "output_type": "stream",
     "text": [
      "+--------------------+--------------------+------+--------------------+\n",
      "|                path|    modificationTime|length|             content|\n",
      "+--------------------+--------------------+------+--------------------+\n",
      "|gs://data-fruits-...|2024-05-12 13:22:...|  7353|[FF D8 FF E0 00 1...|\n",
      "|gs://data-fruits-...|2024-05-12 13:22:...|  7350|[FF D8 FF E0 00 1...|\n",
      "|gs://data-fruits-...|2024-05-12 13:22:...|  7349|[FF D8 FF E0 00 1...|\n",
      "|gs://data-fruits-...|2024-05-12 13:22:...|  7348|[FF D8 FF E0 00 1...|\n",
      "|gs://data-fruits-...|2024-05-12 13:22:...|  7328|[FF D8 FF E0 00 1...|\n",
      "+--------------------+--------------------+------+--------------------+\n",
      "only showing top 5 rows\n",
      "\n"
     ]
    }
   ],
   "source": [
    "images = spark.read.format(\"binaryFile\") \\\n",
    "    .option(\"pathGlobFilter\", \"*.jpg\") \\\n",
    "    .option(\"recursiveFileLookup\", \"true\") \\\n",
    "    .load(\"gs://data-fruits-p8/Test1\")\n",
    "\n",
    "print(type(images))\n",
    "images.show(5, True)\n"
   ]
  },
  {
   "cell_type": "code",
   "execution_count": 5,
   "id": "93db9b44-5f33-4322-b5fa-8b39fff64aec",
   "metadata": {},
   "outputs": [
    {
     "name": "stdout",
     "output_type": "stream",
     "text": [
      "root\n",
      " |-- path: string (nullable = true)\n",
      " |-- modificationTime: timestamp (nullable = true)\n",
      " |-- length: long (nullable = true)\n",
      " |-- content: binary (nullable = true)\n",
      " |-- label: string (nullable = true)\n",
      "\n",
      "None\n",
      "+--------------------------------------------------+----------+\n",
      "|path                                              |label     |\n",
      "+--------------------------------------------------+----------+\n",
      "|gs://data-fruits-p8/Test1/Watermelon/r_106_100.jpg|Watermelon|\n",
      "|gs://data-fruits-p8/Test1/Watermelon/r_109_100.jpg|Watermelon|\n",
      "|gs://data-fruits-p8/Test1/Watermelon/r_108_100.jpg|Watermelon|\n",
      "|gs://data-fruits-p8/Test1/Watermelon/r_107_100.jpg|Watermelon|\n",
      "|gs://data-fruits-p8/Test1/Watermelon/r_95_100.jpg |Watermelon|\n",
      "+--------------------------------------------------+----------+\n",
      "only showing top 5 rows\n",
      "\n",
      "None\n"
     ]
    }
   ],
   "source": [
    "images = images.withColumn('label', element_at(split(images['path'], '/'),-2))\n",
    "print(images.printSchema())\n",
    "print(images.select('path','label').show(5,False))\n"
   ]
  },
  {
   "cell_type": "markdown",
   "id": "de50a4cc",
   "metadata": {},
   "source": [
    "## 2 Extraction de features\n"
   ]
  },
  {
   "cell_type": "markdown",
   "id": "dc6aaa28",
   "metadata": {},
   "source": [
    "### 2.1 Modèle : Mobilenet\n"
   ]
  },
  {
   "cell_type": "code",
   "execution_count": 6,
   "id": "255e9f2c-d120-4573-aa84-70cf4bf4ff79",
   "metadata": {},
   "outputs": [],
   "source": [
    "model = MobileNetV2(weights='imagenet',\n",
    "                    include_top=True,\n",
    "                    input_shape=(224, 224, 3))\n",
    "\n",
    "new_model = Model(inputs=model.input,\n",
    "                  outputs=model.layers[-2].output)\n",
    "\n",
    "# new_model.summary()\n"
   ]
  },
  {
   "cell_type": "code",
   "execution_count": 7,
   "id": "b8afcd74-bfd8-4613-b59a-f21c47761ea8",
   "metadata": {},
   "outputs": [],
   "source": [
    "brodcast_weights = sc.broadcast(new_model.get_weights())\n"
   ]
  },
  {
   "cell_type": "code",
   "execution_count": 8,
   "id": "c59d39f6-1f40-4b73-a977-2bf26236d3d4",
   "metadata": {},
   "outputs": [],
   "source": [
    "def model_fn():\n",
    "    \"\"\"\n",
    "    Returns a MobileNetV2 model with top layer removed\n",
    "    and broadcasted pretrained weights.\n",
    "    \"\"\"\n",
    "    model = MobileNetV2(weights='imagenet',\n",
    "                        include_top=True,\n",
    "                        input_shape=(224, 224, 3))\n",
    "    for layer in model.layers:\n",
    "        layer.trainable = False\n",
    "    new_model = Model(inputs=model.input,\n",
    "                  outputs=model.layers[-2].output)\n",
    "    new_model.set_weights(brodcast_weights.value)\n",
    "\n",
    "    return new_model\n"
   ]
  },
  {
   "cell_type": "markdown",
   "id": "560adecf",
   "metadata": {},
   "source": [
    "### 2.2 Fonctions\n"
   ]
  },
  {
   "cell_type": "code",
   "execution_count": 9,
   "id": "1723351b-f7c6-4dec-a05c-895539b4a437",
   "metadata": {},
   "outputs": [
    {
     "name": "stderr",
     "output_type": "stream",
     "text": [
      "/usr/lib/spark/python/pyspark/sql/pandas/functions.py:394: UserWarning: In Python 3.6+ and Spark 3.0+, it is preferred to specify type hints for pandas UDF instead of specifying pandas UDF type which will be deprecated in the future releases. See SPARK-28264 for more details.\n",
      "  warnings.warn(\n"
     ]
    }
   ],
   "source": [
    "def preprocess(content):\n",
    "    \"\"\"\n",
    "    Preprocesses raw image bytes for prediction.\n",
    "    \"\"\"\n",
    "    img = Image.open(io.BytesIO(content)).resize([224, 224])\n",
    "    arr = img_to_array(img)\n",
    "\n",
    "    return preprocess_input(arr)\n",
    "\n",
    "\n",
    "def featurize_series(model, content_series):\n",
    "    \"\"\"\n",
    "    Featurize a pd.Series of raw images using the input model.\n",
    "    :return: a pd.Series of image features\n",
    "    \"\"\"\n",
    "    input = np.stack(content_series.map(preprocess))\n",
    "    preds = model.predict(input)\n",
    "    output = [p.flatten() for p in preds]\n",
    "\n",
    "    return pd.Series(output)\n",
    "\n",
    "\n",
    "@pandas_udf('array<float>', PandasUDFType.SCALAR_ITER) # type hints instead of type ?\n",
    "def featurize_udf(content_series_iter):\n",
    "    '''\n",
    "    This method is a Scalar Iterator pandas UDF wrapping our featurization function.\n",
    "    The decorator specifies that this returns a Spark DataFrame column of type ArrayType(FloatType).\n",
    "\n",
    "    :param content_series_iter: This argument is an iterator over batches of data, where each batch\n",
    "                              is a pandas Series of image data.\n",
    "    '''\n",
    "    # With Scalar Iterator pandas UDFs, we can load the model once and then re-use it\n",
    "    # for multiple data batches.  This amortizes the overhead of loading big models.\n",
    "    model = model_fn()\n",
    "    for i, content_series in enumerate(content_series_iter):\n",
    "        print('\\n', i)\n",
    "        yield featurize_series(model, content_series)\n"
   ]
  },
  {
   "cell_type": "markdown",
   "id": "0f982639",
   "metadata": {},
   "source": [
    "### 2.3 Transformation\n"
   ]
  },
  {
   "cell_type": "code",
   "execution_count": 10,
   "id": "62a4a4f7-82ff-4f2b-b91c-8997ce3430db",
   "metadata": {},
   "outputs": [],
   "source": [
    "features_df = images.repartition(20).select(col(\"path\"),\n",
    "                                            col(\"label\"),\n",
    "                                            featurize_udf(\"content\").alias(\"features\")\n",
    "                                           )\n",
    "\n",
    "# features_df.persist()\n"
   ]
  },
  {
   "cell_type": "markdown",
   "id": "e762dcb4",
   "metadata": {},
   "source": [
    "### 2.4 Action (write)\n"
   ]
  },
  {
   "cell_type": "code",
   "execution_count": 11,
   "id": "07e08db5-58d0-4a51-9f3e-b9b2c83cb616",
   "metadata": {},
   "outputs": [
    {
     "name": "stdout",
     "output_type": "stream",
     "text": [
      "\n",
      " Copied\n"
     ]
    }
   ],
   "source": [
    "PATH_extraction = \"gs://data-fruits-p8/feature-extraction\"\n",
    "\n",
    "# features_df.write.mode(\"overwrite\").parquet(PATH_extraction)\n",
    "\n",
    "print('\\n', 'Copied')\n"
   ]
  },
  {
   "cell_type": "markdown",
   "id": "b6df2dfb",
   "metadata": {},
   "source": [
    "### 2.5 Récupération du résultat\n"
   ]
  },
  {
   "cell_type": "code",
   "execution_count": 12,
   "id": "51741a9d-43df-4e53-a322-268c0d2cc85f",
   "metadata": {},
   "outputs": [
    {
     "name": "stdout",
     "output_type": "stream",
     "text": [
      "<class 'pandas.core.frame.DataFrame'>\n"
     ]
    },
    {
     "data": {
      "text/html": [
       "<div>\n",
       "<style scoped>\n",
       "    .dataframe tbody tr th:only-of-type {\n",
       "        vertical-align: middle;\n",
       "    }\n",
       "\n",
       "    .dataframe tbody tr th {\n",
       "        vertical-align: top;\n",
       "    }\n",
       "\n",
       "    .dataframe thead th {\n",
       "        text-align: right;\n",
       "    }\n",
       "</style>\n",
       "<table border=\"1\" class=\"dataframe\">\n",
       "  <thead>\n",
       "    <tr style=\"text-align: right;\">\n",
       "      <th></th>\n",
       "      <th>path</th>\n",
       "      <th>label</th>\n",
       "      <th>features</th>\n",
       "    </tr>\n",
       "  </thead>\n",
       "  <tbody>\n",
       "    <tr>\n",
       "      <th>0</th>\n",
       "      <td>gs://data-fruits-p8/Test1/Watermelon/r_83_100.jpg</td>\n",
       "      <td>Watermelon</td>\n",
       "      <td>[0.24856639, 0.37696493, 0.0, 0.04572767, 0.29...</td>\n",
       "    </tr>\n",
       "    <tr>\n",
       "      <th>1</th>\n",
       "      <td>gs://data-fruits-p8/Test1/Watermelon/r_175_100...</td>\n",
       "      <td>Watermelon</td>\n",
       "      <td>[0.018488923, 0.09149949, 0.0, 0.0, 3.239455, ...</td>\n",
       "    </tr>\n",
       "    <tr>\n",
       "      <th>2</th>\n",
       "      <td>gs://data-fruits-p8/Test1/Watermelon/r_82_100.jpg</td>\n",
       "      <td>Watermelon</td>\n",
       "      <td>[0.52961683, 0.097304, 0.0, 0.11661737, 0.4443...</td>\n",
       "    </tr>\n",
       "    <tr>\n",
       "      <th>3</th>\n",
       "      <td>gs://data-fruits-p8/Test1/Pineapple Mini/266_1...</td>\n",
       "      <td>Pineapple Mini</td>\n",
       "      <td>[0.0, 4.661724, 0.0, 0.0, 0.0, 0.0, 0.11351064...</td>\n",
       "    </tr>\n",
       "    <tr>\n",
       "      <th>4</th>\n",
       "      <td>gs://data-fruits-p8/Test1/Pineapple Mini/140_1...</td>\n",
       "      <td>Pineapple Mini</td>\n",
       "      <td>[0.0020793895, 4.688674, 0.0, 0.0, 0.0, 0.0, 0...</td>\n",
       "    </tr>\n",
       "  </tbody>\n",
       "</table>\n",
       "</div>"
      ],
      "text/plain": [
       "                                                path           label  \\\n",
       "0  gs://data-fruits-p8/Test1/Watermelon/r_83_100.jpg      Watermelon   \n",
       "1  gs://data-fruits-p8/Test1/Watermelon/r_175_100...      Watermelon   \n",
       "2  gs://data-fruits-p8/Test1/Watermelon/r_82_100.jpg      Watermelon   \n",
       "3  gs://data-fruits-p8/Test1/Pineapple Mini/266_1...  Pineapple Mini   \n",
       "4  gs://data-fruits-p8/Test1/Pineapple Mini/140_1...  Pineapple Mini   \n",
       "\n",
       "                                            features  \n",
       "0  [0.24856639, 0.37696493, 0.0, 0.04572767, 0.29...  \n",
       "1  [0.018488923, 0.09149949, 0.0, 0.0, 3.239455, ...  \n",
       "2  [0.52961683, 0.097304, 0.0, 0.11661737, 0.4443...  \n",
       "3  [0.0, 4.661724, 0.0, 0.0, 0.0, 0.0, 0.11351064...  \n",
       "4  [0.0020793895, 4.688674, 0.0, 0.0, 0.0, 0.0, 0...  "
      ]
     },
     "metadata": {},
     "output_type": "display_data"
    }
   ],
   "source": [
    "# pandas dataframe\n",
    "\n",
    "df = pd.read_parquet(PATH_extraction, engine='pyarrow')\n",
    "\n",
    "print(type(df))\n",
    "display(df.head())\n"
   ]
  },
  {
   "cell_type": "code",
   "execution_count": 13,
   "id": "765af025-6536-4692-afdc-88214f9931b9",
   "metadata": {},
   "outputs": [
    {
     "name": "stdout",
     "output_type": "stream",
     "text": [
      "<class 'pyspark.sql.dataframe.DataFrame'>\n",
      "+--------------------+--------------+--------------------+\n",
      "|                path|         label|            features|\n",
      "+--------------------+--------------+--------------------+\n",
      "|gs://data-fruits-...|    Watermelon|[0.084468916, 0.0...|\n",
      "|gs://data-fruits-...|    Watermelon|[0.9807966, 0.183...|\n",
      "|gs://data-fruits-...|    Watermelon|[1.0511252, 0.018...|\n",
      "|gs://data-fruits-...|Pineapple Mini|[0.0, 4.571078, 0...|\n",
      "|gs://data-fruits-...|    Watermelon|[0.6159202, 0.622...|\n",
      "|gs://data-fruits-...|    Watermelon|[0.0, 0.8305125, ...|\n",
      "|gs://data-fruits-...|Pineapple Mini|[0.0, 5.169799, 0...|\n",
      "|gs://data-fruits-...|    Watermelon|[0.4157043, 0.300...|\n",
      "|gs://data-fruits-...|    Watermelon|[0.052401572, 0.0...|\n",
      "|gs://data-fruits-...|   Cauliflower|[0.0, 0.2845506, ...|\n",
      "|gs://data-fruits-...|    Watermelon|[0.05690486, 0.24...|\n",
      "|gs://data-fruits-...|     Raspberry|[0.0, 0.72806066,...|\n",
      "|gs://data-fruits-...|   Cauliflower|[0.0, 0.3008667, ...|\n",
      "|gs://data-fruits-...|     Raspberry|[0.24864922, 0.38...|\n",
      "|gs://data-fruits-...|   Cauliflower|[0.0, 1.6769911, ...|\n",
      "|gs://data-fruits-...|     Raspberry|[0.02705465, 0.90...|\n",
      "|gs://data-fruits-...|   Cauliflower|[0.0, 0.575048, 2...|\n",
      "|gs://data-fruits-...|   Cauliflower|[0.02807262, 1.51...|\n",
      "|gs://data-fruits-...|   Cauliflower|[0.010930655, 0.8...|\n",
      "|gs://data-fruits-...|     Pineapple|[0.0, 3.9735227, ...|\n",
      "+--------------------+--------------+--------------------+\n",
      "only showing top 20 rows\n",
      "\n"
     ]
    },
    {
     "name": "stderr",
     "output_type": "stream",
     "text": [
      "                                                                                \r"
     ]
    }
   ],
   "source": [
    "# spark.dataframe\n",
    "\n",
    "spark_df = spark.read.format(\"parquet\").load(PATH_extraction)\n",
    "\n",
    "print(type(spark_df))\n",
    "spark_df.show()\n",
    "# spark_df.count()\n"
   ]
  },
  {
   "cell_type": "markdown",
   "id": "c904db24",
   "metadata": {},
   "source": [
    "## 3 PCA\n"
   ]
  },
  {
   "cell_type": "markdown",
   "id": "cb86c9de",
   "metadata": {},
   "source": [
    "### 3.1 Conversion array into vectors, udf()\n"
   ]
  },
  {
   "cell_type": "code",
   "execution_count": 14,
   "id": "9624e446-1d7f-45ae-8896-f8f4f5b1fc29",
   "metadata": {},
   "outputs": [
    {
     "name": "stderr",
     "output_type": "stream",
     "text": [
      "[Stage 5:>                                                          (0 + 1) / 1]\r"
     ]
    },
    {
     "name": "stdout",
     "output_type": "stream",
     "text": [
      "+--------------------+--------------+--------------------+--------------------+\n",
      "|                path|         label|            features|             vectors|\n",
      "+--------------------+--------------+--------------------+--------------------+\n",
      "|gs://data-fruits-...|    Watermelon|[0.084468916, 0.0...|[0.08446891605854...|\n",
      "|gs://data-fruits-...|    Watermelon|[0.9807966, 0.183...|[0.98079657554626...|\n",
      "|gs://data-fruits-...|    Watermelon|[1.0511252, 0.018...|[1.05112516880035...|\n",
      "|gs://data-fruits-...|Pineapple Mini|[0.0, 4.571078, 0...|[0.0,4.5710778236...|\n",
      "|gs://data-fruits-...|    Watermelon|[0.6159202, 0.622...|[0.61592018604278...|\n",
      "|gs://data-fruits-...|    Watermelon|[0.0, 0.8305125, ...|[0.0,0.8305125236...|\n",
      "|gs://data-fruits-...|Pineapple Mini|[0.0, 5.169799, 0...|[0.0,5.1697988510...|\n",
      "|gs://data-fruits-...|    Watermelon|[0.4157043, 0.300...|[0.41570430994033...|\n",
      "|gs://data-fruits-...|    Watermelon|[0.052401572, 0.0...|[0.05240157246589...|\n",
      "|gs://data-fruits-...|   Cauliflower|[0.0, 0.2845506, ...|[0.0,0.2845506072...|\n",
      "|gs://data-fruits-...|    Watermelon|[0.05690486, 0.24...|[0.05690485984086...|\n",
      "|gs://data-fruits-...|     Raspberry|[0.0, 0.72806066,...|[0.0,0.7280606627...|\n",
      "|gs://data-fruits-...|   Cauliflower|[0.0, 0.3008667, ...|[0.0,0.3008666932...|\n",
      "|gs://data-fruits-...|     Raspberry|[0.24864922, 0.38...|[0.24864922463893...|\n",
      "|gs://data-fruits-...|   Cauliflower|[0.0, 1.6769911, ...|[0.0,1.6769911050...|\n",
      "|gs://data-fruits-...|     Raspberry|[0.02705465, 0.90...|[0.02705465070903...|\n",
      "|gs://data-fruits-...|   Cauliflower|[0.0, 0.575048, 2...|[0.0,0.5750480294...|\n",
      "|gs://data-fruits-...|   Cauliflower|[0.02807262, 1.51...|[0.02807261981070...|\n",
      "|gs://data-fruits-...|   Cauliflower|[0.010930655, 0.8...|[0.01093065459281...|\n",
      "|gs://data-fruits-...|     Pineapple|[0.0, 3.9735227, ...|[0.0,3.9735226631...|\n",
      "+--------------------+--------------+--------------------+--------------------+\n",
      "only showing top 20 rows\n",
      "\n",
      "root\n",
      " |-- path: string (nullable = true)\n",
      " |-- label: string (nullable = true)\n",
      " |-- features: array (nullable = true)\n",
      " |    |-- element: float (containsNull = true)\n",
      " |-- vectors: vector (nullable = true)\n",
      "\n"
     ]
    },
    {
     "name": "stderr",
     "output_type": "stream",
     "text": [
      "                                                                                \r"
     ]
    }
   ],
   "source": [
    "# Define a UDF to convert array-like objects to DenseVectors\n",
    "array_to_dense_vector_udf = udf(lambda arr: Vectors.dense(arr), VectorUDT())\n",
    "\n",
    "# Apply the UDF to the 'features' column\n",
    "# vectors_df = features_df.withColumn('vectors', array_to_dense_vector_udf(col('features')))\n",
    "vectors_df = spark_df.withColumn('vectors', array_to_dense_vector_udf(col('features')))\n",
    "\n",
    "vectors_df.show()\n",
    "vectors_df.printSchema()\n",
    "# vectors_df.persist()\n"
   ]
  },
  {
   "cell_type": "markdown",
   "id": "0bf6e730",
   "metadata": {},
   "source": [
    "### 3.2 PCA\n"
   ]
  },
  {
   "cell_type": "code",
   "execution_count": 15,
   "id": "fcba9fa7-be92-4cef-9491-3f329bc8f4ef",
   "metadata": {},
   "outputs": [
    {
     "name": "stderr",
     "output_type": "stream",
     "text": [
      "[Stage 13:>                                                         (0 + 1) / 1]\r"
     ]
    },
    {
     "name": "stdout",
     "output_type": "stream",
     "text": [
      "+--------------------+--------------+--------------------+--------------------+--------------------+\n",
      "|                path|         label|            features|             vectors|        pca_features|\n",
      "+--------------------+--------------+--------------------+--------------------+--------------------+\n",
      "|gs://data-fruits-...|    Watermelon|[0.084468916, 0.0...|[0.08446891605854...|[-2.4249786636445...|\n",
      "|gs://data-fruits-...|    Watermelon|[0.9807966, 0.183...|[0.98079657554626...|[-2.7799545500016...|\n",
      "|gs://data-fruits-...|    Watermelon|[1.0511252, 0.018...|[1.05112516880035...|[-3.1644799536904...|\n",
      "|gs://data-fruits-...|Pineapple Mini|[0.0, 4.571078, 0...|[0.0,4.5710778236...|[-4.0141380624435...|\n",
      "|gs://data-fruits-...|    Watermelon|[0.6159202, 0.622...|[0.61592018604278...|[-3.0128143613329...|\n",
      "|gs://data-fruits-...|    Watermelon|[0.0, 0.8305125, ...|[0.0,0.8305125236...|[-2.7552698720395...|\n",
      "|gs://data-fruits-...|Pineapple Mini|[0.0, 5.169799, 0...|[0.0,5.1697988510...|[-5.7987034084120...|\n",
      "|gs://data-fruits-...|    Watermelon|[0.4157043, 0.300...|[0.41570430994033...|[-3.4565029230045...|\n",
      "|gs://data-fruits-...|    Watermelon|[0.052401572, 0.0...|[0.05240157246589...|[-2.8892628352288...|\n",
      "|gs://data-fruits-...|   Cauliflower|[0.0, 0.2845506, ...|[0.0,0.2845506072...|[-5.1077531308632...|\n",
      "|gs://data-fruits-...|    Watermelon|[0.05690486, 0.24...|[0.05690485984086...|[-2.1608278134407...|\n",
      "|gs://data-fruits-...|     Raspberry|[0.0, 0.72806066,...|[0.0,0.7280606627...|[0.10498766080780...|\n",
      "|gs://data-fruits-...|   Cauliflower|[0.0, 0.3008667, ...|[0.0,0.3008666932...|[-4.4592071200146...|\n",
      "|gs://data-fruits-...|     Raspberry|[0.24864922, 0.38...|[0.24864922463893...|[-1.7246614930289...|\n",
      "|gs://data-fruits-...|   Cauliflower|[0.0, 1.6769911, ...|[0.0,1.6769911050...|[-4.7793803280836...|\n",
      "|gs://data-fruits-...|     Raspberry|[0.02705465, 0.90...|[0.02705465070903...|[0.34501468836876...|\n",
      "|gs://data-fruits-...|   Cauliflower|[0.0, 0.575048, 2...|[0.0,0.5750480294...|[-5.3245850153572...|\n",
      "|gs://data-fruits-...|   Cauliflower|[0.02807262, 1.51...|[0.02807261981070...|[-4.1995739315114...|\n",
      "|gs://data-fruits-...|   Cauliflower|[0.010930655, 0.8...|[0.01093065459281...|[-4.4021286304087...|\n",
      "|gs://data-fruits-...|     Pineapple|[0.0, 3.9735227, ...|[0.0,3.9735226631...|[-6.0181643880336...|\n",
      "+--------------------+--------------+--------------------+--------------------+--------------------+\n",
      "only showing top 20 rows\n",
      "\n"
     ]
    },
    {
     "name": "stderr",
     "output_type": "stream",
     "text": [
      "                                                                                \r"
     ]
    }
   ],
   "source": [
    "# Perform PCA\n",
    "pca = PCA(k=80, inputCol=\"vectors\", outputCol=\"pca_features\")\n",
    "model_pca = pca.fit(vectors_df)\n",
    "result_pca = model_pca.transform(vectors_df)\n",
    "\n",
    "# Output result\n",
    "result_pca.show(truncate=True)\n",
    "\n",
    "# result_pca.persist()\n"
   ]
  },
  {
   "cell_type": "markdown",
   "id": "9e9f36f0",
   "metadata": {},
   "source": [
    "### 3.3 Plot explained variance\n"
   ]
  },
  {
   "cell_type": "code",
   "execution_count": 16,
   "id": "952aac92-004c-4d26-ab99-956b5167be8d",
   "metadata": {},
   "outputs": [
    {
     "name": "stdout",
     "output_type": "stream",
     "text": [
      "[0.10140991295579743,0.08005981651857846,0.06350302716646909,0.050147855332372135,0.035354277770208616,0.029159931947857834,0.027732146818521992,0.022848893888989173,0.01985943576162699,0.019091527392127897,0.01653707377854355,0.014662889443209771,0.013981834241403571,0.013685782313196384,0.013347894528372716,0.012500332820502558,0.011550825667730859,0.010749219893476051,0.009800369948690135,0.009710070599621822,0.00915830548461824,0.00828298808948103,0.00788771775782998,0.0075078391626208245,0.007148164612494224,0.007072354366732732,0.006836411501499923,0.0062183558210989025,0.006122050454459551,0.005890478944926375,0.00570314588349015,0.005575825940831421,0.005273852069750781,0.0050500179650337425,0.004785237412236022,0.004688381063621542,0.0045952750035311955,0.004346392138863496,0.0042351823724184785,0.004092068421999948,0.003902364772834305,0.003889278371853834,0.0038444639612836215,0.003723693960007093,0.0036299162753827305,0.00342219993088015,0.0033970266893210265,0.00333073728913109,0.003290558597269569,0.003237050426244123,0.003199355465046848,0.003056753008855613,0.002969972603249794,0.0028830619802243745,0.0028300494937074836,0.00279269534666448,0.0027537711198222913,0.002688078504148948,0.0025981133288355547,0.0025249543717657773,0.0024820407830827207,0.002451724361802204,0.002351546694992983,0.00231833349034219,0.0022919207292850983,0.0022451776773621977,0.002194707815144253,0.0021686948415062545,0.0021262312820409185,0.0021124903991768867,0.002062515990598174,0.0019927236782376592,0.0019316371840923461,0.0019070947185394398,0.0018710124980564407,0.0018452181663185048,0.0018031356737879518,0.0017512841463908045,0.0017465195255287002,0.0017303082361380005]\n"
     ]
    },
    {
     "data": {
      "image/png": "[encoded data removed]",
      "text/plain": [
       "<Figure size 800x600 with 1 Axes>"
      ]
     },
     "metadata": {},
     "output_type": "display_data"
    }
   ],
   "source": [
    "print(model_pca.explainedVariance)\n",
    "\n",
    "# Plot\n",
    "explained_variance_ratios = model_pca.explainedVariance.toArray()\n",
    "\n",
    "# Compute cumulative explained variance\n",
    "cumulative_variance = np.cumsum(explained_variance_ratios)\n",
    "\n",
    "plt.figure(figsize=(8, 6))\n",
    "plt.plot(range(1, len(cumulative_variance) + 1), cumulative_variance, marker='o', linestyle='-')\n",
    "plt.title('Cumulative Variance Explained by PCA Components')\n",
    "plt.xlabel('Number of Components')\n",
    "plt.ylabel('Cumulative Variance Explained')\n",
    "plt.grid(True)\n",
    "plt.show()\n"
   ]
  },
  {
   "cell_type": "code",
   "execution_count": 17,
   "id": "23a69fa7-7e29-4260-963c-787a06da3399",
   "metadata": {},
   "outputs": [
    {
     "name": "stdout",
     "output_type": "stream",
     "text": [
      "+--------------------+--------------+--------------------+\n",
      "|                path|         label|        pca_features|\n",
      "+--------------------+--------------+--------------------+\n",
      "|gs://data-fruits-...|    Watermelon|[-2.4249786636445...|\n",
      "|gs://data-fruits-...|    Watermelon|[-2.7799545500016...|\n",
      "|gs://data-fruits-...|    Watermelon|[-3.1644799536904...|\n",
      "|gs://data-fruits-...|Pineapple Mini|[-4.0141380624435...|\n",
      "|gs://data-fruits-...|    Watermelon|[-3.0128143613329...|\n",
      "|gs://data-fruits-...|    Watermelon|[-2.7552698720395...|\n",
      "|gs://data-fruits-...|Pineapple Mini|[-5.7987034084120...|\n",
      "|gs://data-fruits-...|    Watermelon|[-3.4565029230045...|\n",
      "|gs://data-fruits-...|    Watermelon|[-2.8892628352288...|\n",
      "|gs://data-fruits-...|   Cauliflower|[-5.1077531308632...|\n",
      "|gs://data-fruits-...|    Watermelon|[-2.1608278134407...|\n",
      "|gs://data-fruits-...|     Raspberry|[0.10498766080780...|\n",
      "|gs://data-fruits-...|   Cauliflower|[-4.4592071200146...|\n",
      "|gs://data-fruits-...|     Raspberry|[-1.7246614930289...|\n",
      "|gs://data-fruits-...|   Cauliflower|[-4.7793803280836...|\n",
      "|gs://data-fruits-...|     Raspberry|[0.34501468836876...|\n",
      "|gs://data-fruits-...|   Cauliflower|[-5.3245850153572...|\n",
      "|gs://data-fruits-...|   Cauliflower|[-4.1995739315114...|\n",
      "|gs://data-fruits-...|   Cauliflower|[-4.4021286304087...|\n",
      "|gs://data-fruits-...|     Pineapple|[-6.0181643880336...|\n",
      "+--------------------+--------------+--------------------+\n",
      "only showing top 20 rows\n",
      "\n"
     ]
    }
   ],
   "source": [
    "# delete feature extraction col & vectors (étapes intermédiaires, plus nécessaire.)\n",
    "result_pca = result_pca.drop('features', 'vectors')\n",
    "result_pca.show()\n"
   ]
  },
  {
   "cell_type": "markdown",
   "id": "44357714",
   "metadata": {},
   "source": [
    "### 3.4 Save final results\n"
   ]
  },
  {
   "cell_type": "code",
   "execution_count": 18,
   "id": "b96d9717-4f0b-465b-916c-81b22dddbab5",
   "metadata": {},
   "outputs": [
    {
     "name": "stdout",
     "output_type": "stream",
     "text": [
      "\n",
      " Copied\n"
     ]
    }
   ],
   "source": [
    "# Save\n",
    "PATH_Result_PCA = \"gs://data-fruits-p8/pca\"\n",
    "\n",
    "# result_pca.write.mode(\"overwrite\").parquet(PATH_Result_PCA)\n",
    "print('\\n', 'Copied')\n"
   ]
  },
  {
   "cell_type": "code",
   "execution_count": 20,
   "id": "8c2b2aef-5eed-4fbe-8d06-f76ae5dbf3ef",
   "metadata": {
    "tags": []
   },
   "outputs": [],
   "source": [
    "# show bucket using cli ssh ?\n",
    "# ou directement avec l'ui\n"
   ]
  }
 ],
 "metadata": {
  "kernelspec": {
   "display_name": "PySpark (Local)",
   "language": "python",
   "name": "pyspark"
  },
  "language_info": {
   "codemirror_mode": {
    "name": "ipython",
    "version": 3
   },
   "file_extension": ".py",
   "mimetype": "text/x-python",
   "name": "python",
   "nbconvert_exporter": "python",
   "pygments_lexer": "ipython3",
   "version": "3.10.14"
  }
 },
 "nbformat": 4,
 "nbformat_minor": 5
}
